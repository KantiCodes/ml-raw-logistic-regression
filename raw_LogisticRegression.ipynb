{
 "cells": [
  {
   "cell_type": "markdown",
   "metadata": {},
   "source": [
    "This notebook presents step by step implementation of a binary classifier for MNIST dataset, where we distinguish following classes(digits 0 and 1 are supposed to be removed from the dataset):\n",
    "- Prime nubmers(2,3,5,7)\n",
    "- Compound numbers(4,6,8,9)\n",
    "\n",
    "The solution is going to:\n",
    " - Implement both **logistic regression** and optimization ***SGD + momentum*** using only **numpy**.\n",
    " - Tune the hyperparameters in order to increase the performance on test set.\n",
    " - Evaluate the model.\n",
    "\n"
   ]
  },
  {
   "cell_type": "markdown",
   "metadata": {},
   "source": [
    "***Requirements:***\n",
    "- python-mnist (Data reader)\n",
    "- matplotlib\n",
    "- seaborn\n",
    "- numpy\n",
    "- sklearn (for validation purposes only)\n",
    "\n",
    "***Download MNIST***\n",
    "\n",
    "(train set):\n",
    " - http://yann.lecun.com/exdb/mnist/train-images-idx3-ubyte.gz\n",
    " - http://yann.lecun.com/exdb/mnist/train-labels-idx1-ubyte.gz\n",
    " \n",
    "(test set):\n",
    " - http://yann.lecun.com/exdb/mnist/t10k-images-idx3-ubyte.gz\n",
    " - http://yann.lecun.com/exdb/mnist/t10k-labels-idx1-ubyte.gz\n",
    "\n",
    "***Unpack the data and rename the files***\n",
    "\n",
    " replace \".\" to \"-\" for all of the files names:  \n",
    "   - **train-images.idx3-ubyte**   ->  **train-images-idx3-ubyte**  \n",
    "   - **train-labels.idx1-ubyte**   ->  **train-labels-idx1-ubyte**  \n",
    "   - **10k-images.idx3-ubyte.gz**   ->  **10k-images-idx3-ubyte.gz**  \n",
    "   - **10k-labels.idx1-ubyte.gz**   ->  **10k-labels-idx1-ubyte.gz**  \n",
    "\n"
   ]
  },
  {
   "cell_type": "code",
   "execution_count": 1,
   "metadata": {},
   "outputs": [
    {
     "data": {
      "text/plain": [
       "<mnist.loader.MNIST at 0x1925ba55d48>"
      ]
     },
     "execution_count": 1,
     "metadata": {},
     "output_type": "execute_result"
    }
   ],
   "source": [
    "#Imports\n",
    "from mnist.loader import MNIST\n",
    "import matplotlib.pyplot as plt\n",
    "import seaborn as sns\n",
    "import numpy as np\n",
    "%matplotlib inline\n",
    "%config IPCompleter.greedy=True\n",
    "\n",
    "#Data\n",
    "mndata = MNIST('C:/Users/45502/my_notebooks')  #input valid path pointing unpacked and renamed MNIST dataset "
   ]
  },
  {
   "cell_type": "code",
   "execution_count": 9,
   "metadata": {},
   "outputs": [],
   "source": [
    "def process_data(train_imgs: list, train_labels: list, test_imgs: list,\n",
    "                 test_labels: list, train_size: list, test_size: list):\n",
    "    \n",
    "    '''\n",
    "    Method to process the MNIST data\n",
    "    \n",
    "    Parameters:\n",
    "    \n",
    "    train_imgs, train_labels : Train data to be processed\n",
    "    test_imgs, test_labels : Test data to be processed\n",
    "    train_size : number of samples in the train set\n",
    "        if train_size = None, method returns all of the samples\n",
    "    test_size : number of samples in the test set\n",
    "        if train_size = None, method returns all of the samples\n",
    "    \n",
    "    Returns:\n",
    "    \n",
    "    X (np.array) : processed train_imgs\n",
    "    y (np.array) : processed train_labels\n",
    "    test_X (np.array) : processed test_imgs\n",
    "    test_y (np.array) : processed test_labels\n",
    "    \n",
    "    '''\n",
    "   \n",
    "    prime_nums = [2,3,5,7]\n",
    "\n",
    "    #Remove 0 from train data\n",
    "    train_zero_indicies= [index for index, element in enumerate(train_labels) if element == 0]\n",
    "    for index in sorted(train_zero_indicies, reverse=True):\n",
    "        del train_imgs[index]\n",
    "        del train_labels[index]\n",
    "\n",
    "    #Remove 0 from test data\n",
    "    test_zero_indicies= [index for index, element in enumerate(test_labels) if element == 0]\n",
    "    for index in sorted(test_zero_indicies, reverse=True):\n",
    "        del test_imgs[index]\n",
    "        del test_labels[index]\n",
    "\n",
    "    #Remove 1 from train data\n",
    "    train_one_indicies= [index for index, element in enumerate(train_labels) if element == 1]\n",
    "    for index in sorted(train_one_indicies, reverse=True):\n",
    "        del train_imgs[index]\n",
    "        del train_labels[index]\n",
    "\n",
    "    #Remove 1 from test data\n",
    "    test_one_indicies= [index for index, element in enumerate(test_labels) if element == 1]\n",
    "    for index in sorted(test_one_indicies, reverse=True):\n",
    "        del test_imgs[index]\n",
    "        del test_labels[index]\n",
    "\n",
    "    #Separation between 0 - prime numbers and  1 - compound numbers\n",
    "    for index,val  in enumerate (train_labels):\n",
    "        if val in prime_nums:\n",
    "            train_labels[index] = 0\n",
    "        else:\n",
    "            train_labels[index] = 1\n",
    "\n",
    "    for index,val  in enumerate (test_labels):\n",
    "        if val in prime_nums:\n",
    "            test_labels[index] = 0\n",
    "        else:\n",
    "            test_labels[index] = 1\n",
    "\n",
    "\n",
    "    #Convert to numpy\n",
    "    X = np.array (train_imgs)\n",
    "    y = np.array (train_labels)\n",
    "\n",
    "    test_X =  np.array(test_imgs)\n",
    "    test_y = np.array(test_labels)\n",
    "    \n",
    "    #If not None -> Takes train_size number of samples from train set\n",
    "    if train_size != None:\n",
    "        X=X[:train_size]\n",
    "        y=y[:train_size] \n",
    "    \n",
    "   #If not None -> Takes train_size number of samples from test set\n",
    "    if test_size != None:\n",
    "        test_X=test_X[:test_size]\n",
    "        test_y=test_y[:test_size]\n",
    "\n",
    "\n",
    "    y = y.reshape((y.shape[0],1))\n",
    "    test_y = test_y.reshape((test_y.shape[0],1))\n",
    "    \n",
    "\n",
    "    \n",
    "    #Number of samples for given dataset\n",
    "    m = len(y)\n",
    "    test_m = len(test_y)\n",
    "\n",
    "    #Adding intercept term\n",
    "    X = np.hstack((np.ones((m,1)),X))\n",
    "    test_X = np.hstack((np.ones((test_m,1)),test_X))\n",
    "\n",
    "    n = np.size(X,1)\n",
    "    \n",
    "\n",
    "    #Normalization\n",
    "    X = (X - np.min(X)) / ((np.max(X) - np.min(X)))\n",
    "    test_X = (test_X - np.min(test_X)) / (np.max(test_X) - np.min(test_X))\n",
    "    \n",
    "    return X, y, test_X, test_y"
   ]
  },
  {
   "cell_type": "code",
   "execution_count": 10,
   "metadata": {},
   "outputs": [],
   "source": [
    "class Model:\n",
    "    '''Model for logistic regression'''\n",
    "    \n",
    "    params = None\n",
    "    \n",
    "    def __init__(self, learning_rate: float, momentum_rate: float):\n",
    "        \n",
    "        ''' \n",
    "        Init fucntion setting learning rate and momentum of the model object\n",
    "        \n",
    "        Parameters:\n",
    "        learning_rate: the value of the learning rate\n",
    "        momentum_rate: the value of the momentum rate\n",
    "        \n",
    "        '''\n",
    "        \n",
    "        self.learning_rate = learning_rate\n",
    "        self.momentum_rate = momentum_rate\n",
    "    \n",
    "    def fit(self, X: np.ndarray, y: np.ndarray) -> None:\n",
    "        '''Train model and set the parameters to the ones returned from SGD'''\n",
    "        \n",
    "        iterations = X.shape[0] * 8\n",
    "        include_cost = False\n",
    "        plot_precision = 0\n",
    "        self.params = SGD(X, y, None, None, self.learning_rate, self.momentum_rate, iterations, include_cost, plot_precision)[2]\n",
    "\n",
    "    def predict(self, X: np.ndarray) -> np.ndarray:\n",
    "        '''Predict the label of the class\n",
    "        \n",
    "        Returns:\n",
    "        predicted labels\n",
    "        \n",
    "        '''\n",
    "        pred = sigmoid(X@self.params)\n",
    "        pred = pred>=0.5\n",
    "        \n",
    "        return pred.astype(int)\n",
    "    \n",
    "\n",
    "    @staticmethod\n",
    "    def evaluate(y_true: np.ndarray, y_pred: np.ndarray) -> float:\n",
    "        ''' \n",
    "        Evalutes the predicted classes\n",
    "        Returns:\n",
    "        accuracy: accuracy of the model\n",
    "        '''\n",
    "        errors_num =  np.sum(y_true != y_pred)\n",
    "        accuracy =  1 - errors_num / y_true.shape[0] \n",
    "        return accuracy\n"
   ]
  },
  {
   "cell_type": "markdown",
   "metadata": {},
   "source": [
    "h = sigmoid(X*theta);\n",
    "\n",
    "J = (sum ( ( -y .* log(h)) - ((1-y) .*(log(1-h) )) ) ) /m;\n",
    "sum()"
   ]
  },
  {
   "cell_type": "code",
   "execution_count": 57,
   "metadata": {},
   "outputs": [],
   "source": [
    "#Funkcja sigmoid\n",
    "def sigmoid(z: float):\n",
    "    \"\"\"\n",
    "    Calculates sigmoid of z\n",
    "    \n",
    "    Returns:\n",
    "    sigmoid of z\n",
    "    \n",
    "    \"\"\"\n",
    "    \n",
    "    return 1 / ( 1 + np.exp(-z) )\n",
    "\n",
    "\n",
    "def compute_cost(X: np.array, y: np.array, theta: np.array):\n",
    "    '''\n",
    "    Calucaltes the cost of the function\n",
    "    \n",
    "    Returns:\n",
    "    Cost of the function\n",
    "    \n",
    "    '''\n",
    "    \n",
    "    m = X.shape[0]\n",
    "    h = sigmoid(X @ theta)\n",
    "    cost = - np.average(y * np.log(h) + (1 - y) * np.log(1 - h))\n",
    "    \n",
    "    return cost"
   ]
  },
  {
   "cell_type": "code",
   "execution_count": 58,
   "metadata": {},
   "outputs": [],
   "source": [
    "def SGD(X: np.array, y: np.array, test_X: np.array, test_y: np.array, learning_rate: float, momentum_rate: float,\n",
    "                 iterations: int, include_cost: bool, cost_precision: int):\n",
    "    '''\n",
    "    Stochasit gradient descent\n",
    "\n",
    "    Optimization of the parameters in order to find the min cost of the function\n",
    "\n",
    "    Parameters:\n",
    "    X (np.array) : train data\n",
    "    y (np.array) : train labels\n",
    "    test_X (np.array) : test data\n",
    "    test_y (np.array) : test labels\n",
    "    learning_rate: the value of the learning rate\n",
    "    momentum_rate: the value of the momentum rate\n",
    "    \n",
    "    Returns:\n",
    "    test_cost_history: cost history of the test set \n",
    "    train_cost_history: cost history of the train set\n",
    "    params: best function parameters for min cost\n",
    "    '''\n",
    "    \n",
    "    # cost history and samples num initialization\n",
    "    test_cost_history = np.zeros((iterations,1))\n",
    "    train_cost_history = np.zeros((iterations,1))\n",
    "    m = len(y)\n",
    "    n = np.size(X,1)\n",
    "    this_velocity = np.zeros((n,1))\n",
    "    \n",
    "    params =  np.ones((n,1))/4\n",
    "    \n",
    "    for i in range(iterations):\n",
    "        \n",
    "        #TODO: add decaying learning rate\n",
    "        \n",
    "        #TODO: add bias correction        \n",
    "        #         if bias_correction:\n",
    "        #             ''' early stage bias reduction for momentum'''\n",
    "        #             bias_correct = 1 - (momentum_rate**(i+1) )\n",
    "        #             this_velocity = this_velocity * (1/ bias_correct)\n",
    "\n",
    "\n",
    "        #Reset index after each epoch\n",
    "        sample_index = i%m\n",
    "        \n",
    "        #Sample extraction\n",
    "        current_X = X[sample_index].reshape((1,X.shape[1]))\n",
    "        current_y = y[sample_index]\n",
    "        \n",
    "        #Inference for current parameters\n",
    "        h =sigmoid(current_X@params)\n",
    "        \n",
    "        #Gradient\n",
    "        grad = learning_rate* (current_X.T @  (h- current_y) )\n",
    "        \n",
    "        #Update momentum\n",
    "        this_velocity = momentum_rate *  this_velocity + grad \n",
    "        \n",
    "        #Update params\n",
    "        params -= this_velocity \n",
    "        \n",
    "        #Cost for current parameters\n",
    "        if include_cost:\n",
    "            #For big dataset we will save every cost_precision\n",
    "            if i %cost_precision == 0:\n",
    "                test_cost_history[i] = compute_cost(test_X, test_y, params)\n",
    "                train_cost_history[i] = compute_cost(X, y, params)\n",
    "            else:\n",
    "                test_cost_history[i] = test_cost_history[i-1]\n",
    "                train_cost_history[i] =  train_cost_history[i-1]\n",
    "\n",
    "    return (test_cost_history, train_cost_history, params)"
   ]
  },
  {
   "cell_type": "code",
   "execution_count": 64,
   "metadata": {},
   "outputs": [],
   "source": [
    "def hyperparameters_tunning(iterations: int, X: np.array, y: np.array, test_X, test_y, initial_lr: float, steps_lr: int,\n",
    "                            delta_lr: float, initial_mr: float, steps_mr: int, delta_mr: float, visualize: bool):\n",
    "    '''\n",
    "    Circulates around the initial learning rate and momementum rate in order to find their best values.\n",
    "    \n",
    "    It changes it`s values by delta_lr/mr and does it steps_lr/mr times.\n",
    "    \n",
    "    Parameters:\n",
    "    X (np.array) : train data\n",
    "    y (np.array) : train labels\n",
    "    test_X (np.array) : test data\n",
    "    test_y (np.array) : test labels\n",
    "    initial_lr: the initial learning rate\n",
    "    steps_lr: number of iterations learning rate\n",
    "    delta_lr: change of the learning rate per iteration\n",
    "    initial_mr: the initial momentum rate\n",
    "    steps_mr: number of iterations momentum rate\n",
    "    delta_mr: change of the momentum rate per iteration\n",
    "    visualize: whether to plot the graph or not\n",
    "    \n",
    "    Returns:\n",
    "    hyper_parameters_cost_results: history of all of the costs\n",
    "    min_cost: minimal cost\n",
    "    best_lr: the best learning rate\n",
    "    best_mr: the best momentum rate\n",
    "    '''\n",
    "    min_cost = 1000\n",
    "    best_lr = None\n",
    "    best_mr = None\n",
    "    n  = np.size(X,1)\n",
    "    #Historia z wewnątrz SGD i jego iteracji\n",
    "    include_cost_history=False\n",
    "    hyper_parameters_cost_results = np.ones((steps_lr,steps_mr))*97\n",
    "    \n",
    "    for learning_iter in range(steps_lr):\n",
    "        learning_rate = initial_lr + learning_iter*delta_lr\n",
    "        \n",
    "        for momentum_iter in range(steps_mr):\n",
    "            momentum_rate = initial_mr - momentum_iter * delta_mr\n",
    "            \n",
    "            params_optimal =  SGD(X, y, test_X, test_y, learning_rate, momentum_rate,\n",
    "                                                                       iterations, include_cost_history, 0)[2]\n",
    "            \n",
    "            test_final_cost = compute_cost(test_X, test_y, params_optimal)\n",
    "            \n",
    "            if test_final_cost < min_cost:\n",
    "                min_cost = test_final_cost\n",
    "                best_lr = learning_rate\n",
    "                best_mr = momentum_rate\n",
    "            \n",
    "            hyper_parameters_cost_results[learning_iter,momentum_iter] = test_final_cost\n",
    "            color = np.random.rand(3,)        \n",
    "#         if visualize:\n",
    "#             plt.legend()\n",
    "#             plt.show()\n",
    "\n",
    "   \n",
    "    return hyper_parameters_cost_results, min_cost, best_lr, best_mr"
   ]
  },
  {
   "cell_type": "code",
   "execution_count": 63,
   "metadata": {},
   "outputs": [
    {
     "name": "stdout",
     "output_type": "stream",
     "text": [
      "SGD MOMENTUM\n",
      "min cost is 0.24751628647315704\n",
      "best learning rate is 0.00075\n",
      "best momentum rate is 0.702\n"
     ]
    }
   ],
   "source": [
    "#SGD  momentum tunning\n",
    "train_imgs, train_labels = mndata.load_training()\n",
    "test_imgs, test_labels = mndata.load_testing()\n",
    "X, y, test_X, test_y = process_data(train_imgs, train_labels, test_imgs, test_labels, None, None)\n",
    "\n",
    "iterations = X.shape[0] * 2 \n",
    "\n",
    "initial_lr = 0.0005\n",
    "steps_lr = 15\n",
    "delta_lr = 0.00025\n",
    "\n",
    "initial_mr = 0.702\n",
    "steps_mr = 3\n",
    "delta_mr = -0.07\n",
    "\n",
    "visualize = False\n",
    "hist,min_cost,lr,mr = hyperparameters_tunning(iterations, X, y, test_X, test_y, initial_lr, steps_lr,\n",
    "                            delta_lr, initial_mr, steps_mr, delta_mr, visualize)\n",
    "print ('SGD MOMENTUM')\n",
    "print ('min cost is', min_cost)\n",
    "print('best learning rate is',lr)\n",
    "print('best momentum rate is', mr)"
   ]
  },
  {
   "cell_type": "code",
   "execution_count": 49,
   "metadata": {},
   "outputs": [
    {
     "name": "stdout",
     "output_type": "stream",
     "text": [
      "SGD ZWYKŁY Z DOBRANYMI PARAMETRAMI\n",
      "KOŃCOWY KOSZT DLA CAŁEGO TEST SETU: 0.24321118847971873\n"
     ]
    }
   ],
   "source": [
    "#SGD  bez momentum dla całego datasetu z tuneowanymi parametrami\n",
    "train_imgs, train_labels = mndata.load_training()\n",
    "test_imgs, test_labels = mndata.load_testing()\n",
    "X, y, test_X, test_y = process_data(train_imgs, train_labels, test_imgs, test_labels, None, None)\n",
    "iterations = X.shape[0] * 8 \n",
    "lr = 0.0005\n",
    "mr = 0\n",
    "include_cost_history = False\n",
    "cost_history_ratio = 0\n",
    "params_optimal =  SGD(X, y, test_X, test_y, lr, mr,  iterations, include_cost_history, cost_history_ratio)[2]\n",
    "cost =  compute_cost(test_X, test_y, params_optimal)\n",
    "\n",
    "print(\"SGD ZWYKŁY Z DOBRANYMI PARAMETRAMI\")\n",
    "print ('KOŃCOWY KOSZT DLA CAŁEGO TEST SETU:', cost)\n"
   ]
  },
  {
   "cell_type": "code",
   "execution_count": 50,
   "metadata": {},
   "outputs": [
    {
     "name": "stdout",
     "output_type": "stream",
     "text": [
      "SGD MOMENTUM Z DOBRANYMI PARAMETRAMI\n",
      "KOŃCOWY KOSZT DLA CAŁEGO TEST SETU: 0.25032441017763946\n"
     ]
    }
   ],
   "source": [
    "#SGD  momentum dla całego datasetu z tuneowanymi parametrami\n",
    "train_imgs, train_labels = mndata.load_training()\n",
    "test_imgs, test_labels = mndata.load_testing()\n",
    "X, y, test_X, test_y = process_data(train_imgs, train_labels, test_imgs, test_labels, None, None)\n",
    "iterations = X.shape[0] * 8 \n",
    "lr = 0.0005\n",
    "mr = 0.9\n",
    "include_cost_history = False\n",
    "cost_history_ratio = 0\n",
    "params_optimal =  SGD(X, y, test_X, test_y, lr, mr,  iterations, include_cost_history, cost_history_ratio)[2]\n",
    "cost =  compute_cost(test_X, test_y, params_optimal)\n",
    "\n",
    "print(\"SGD MOMENTUM Z DOBRANYMI PARAMETRAMI\")\n",
    "print ('KOŃCOWY KOSZT DLA CAŁEGO TEST SETU:', cost)\n"
   ]
  },
  {
   "cell_type": "code",
   "execution_count": 52,
   "metadata": {
    "scrolled": true
   },
   "outputs": [
    {
     "name": "stderr",
     "output_type": "stream",
     "text": [
      "c:\\program files\\python37\\lib\\site-packages\\ipykernel_launcher.py:28: RuntimeWarning: divide by zero encountered in log\n",
      "c:\\program files\\python37\\lib\\site-packages\\ipykernel_launcher.py:28: RuntimeWarning: invalid value encountered in multiply\n"
     ]
    }
   ],
   "source": [
    "#Calculate convergence \n",
    "#Care cause cost for each iteration is retunerd here\n",
    "\n",
    "train_imgs, train_labels = mndata.load_training()\n",
    "test_imgs, test_labels = mndata.load_testing()\n",
    "\n",
    "train_X, train_y, test_X, test_y = process_data(train_imgs, train_labels, test_imgs, test_labels, 22000, 2000)\n",
    "iterations = X.shape[0] * 1 \n",
    "lr = 0.001 #Learning reate\n",
    "mr = 0.9   #Momentum rate\n",
    "include_cost_history = True\n",
    "cost_history_ratio = 2 # This will calculate cost for both train and test set every cost_history_iteration\n",
    "\n",
    "comparison = {}\n",
    "comparison['regular'] =SGD(train_X, train_y, test_X, test_y, lr, 0,  iterations, include_cost_history, cost_history_ratio)\n",
    "comparison['momentum'] =SGD(train_X, train_y, test_X, test_y, lr, mr,  iterations, include_cost_history, cost_history_ratio)\n",
    "\n",
    "\n"
   ]
  },
  {
   "cell_type": "code",
   "execution_count": 65,
   "metadata": {
    "scrolled": false
   },
   "outputs": [
    {
     "data": {
      "image/png": "[encoded data removed]",
      "text/plain": [
       "<Figure size 720x432 with 1 Axes>"
      ]
     },
     "metadata": {},
     "output_type": "display_data"
    }
   ],
   "source": [
    "plt.figure(figsize=(10,6))\n",
    "plt.title('Test set Comparison of convergence SGD vs SGD + momentum')\n",
    "sns.set_style('white')\n",
    "plt.xlabel(\"Iter\")\n",
    "plt.ylabel(\"Cost\")\n",
    "\n",
    "plt.plot( comparison['regular'][0], 'r',linewidth=1, label=\"Regular SGD:\", color='black' )\n",
    "plt.plot( comparison['momentum'][0] ,'r',linewidth=1, label=\"Momentum SGD :\", color='red' )\n",
    "\n",
    "plt.ylim(0.2,4)\n",
    "plt.legend()\n",
    "plt.show()\n"
   ]
  },
  {
   "cell_type": "code",
   "execution_count": 66,
   "metadata": {},
   "outputs": [
    {
     "data": {
      "image/png": "[encoded data removed]",
      "text/plain": [
       "<Figure size 720x432 with 1 Axes>"
      ]
     },
     "metadata": {},
     "output_type": "display_data"
    }
   ],
   "source": [
    "plt.figure(figsize=(10,6))\n",
    "plt.title('Train set Comparison of convergence SGD vs SGD + momentum')\n",
    "sns.set_style('white')\n",
    "plt.xlabel(\"Iter\")\n",
    "plt.ylabel(\"Cost\")\n",
    "\n",
    "plt.plot( comparison['regular'][1], 'r',linewidth=1, label=\"Regular SGD:\", color='black' )\n",
    "plt.plot( comparison['momentum'][1] ,'r',linewidth=1, label=\"Momentum SGD :\", color='red' )\n",
    "\n",
    "plt.ylim(0.2,4)\n",
    "plt.legend()\n",
    "plt.show()\n"
   ]
  },
  {
   "cell_type": "code",
   "execution_count": 11,
   "metadata": {
    "scrolled": true
   },
   "outputs": [],
   "source": [
    "#Model initialization\n",
    "#LR = Model(0.0005, 0.77)\n",
    "\n",
    "#Data reading\n",
    "train_imgs, train_labels = mndata.load_training()\n",
    "test_imgs, test_labels = mndata.load_testing()\n",
    "X, y, test_X, test_y = process_data(train_imgs, train_labels, test_imgs, test_labels, None, None)\n",
    "\n",
    "# #Train\n",
    "# LR.fit(X,y)\n",
    "\n",
    "# #Evaluation\n",
    "# y_pred = LR.predict(test_X)\n",
    "# acc = LR.evaluate(y_pred,test_y)\n",
    "# print (\"Accuracy is :\", acc*100, \"%\")w"
   ]
  },
  {
   "cell_type": "code",
   "execution_count": 12,
   "metadata": {},
   "outputs": [
    {
     "data": {
      "text/plain": [
       "(47335, 785)"
      ]
     },
     "execution_count": 12,
     "metadata": {},
     "output_type": "execute_result"
    }
   ],
   "source": [
    "X.shape"
   ]
  },
  {
   "cell_type": "code",
   "execution_count": 8,
   "metadata": {},
   "outputs": [
    {
     "ename": "AttributeError",
     "evalue": "'list' object has no attribute 'size'",
     "output_type": "error",
     "traceback": [
      "\u001b[1;31m---------------------------------------------------------------------------\u001b[0m",
      "\u001b[1;31mAttributeError\u001b[0m                            Traceback (most recent call last)",
      "\u001b[1;32m<ipython-input-8-754ec2aa58b6>\u001b[0m in \u001b[0;36m<module>\u001b[1;34m\u001b[0m\n\u001b[1;32m----> 1\u001b[1;33m \u001b[0mtrain_imgs\u001b[0m\u001b[1;33m.\u001b[0m\u001b[0msize\u001b[0m\u001b[1;33m(\u001b[0m\u001b[1;33m)\u001b[0m\u001b[1;33m\u001b[0m\u001b[1;33m\u001b[0m\u001b[0m\n\u001b[0m",
      "\u001b[1;31mAttributeError\u001b[0m: 'list' object has no attribute 'size'"
     ]
    }
   ],
   "source": [
    "train_imgs"
   ]
  },
  {
   "cell_type": "code",
   "execution_count": 64,
   "metadata": {},
   "outputs": [
    {
     "name": "stdout",
     "output_type": "stream",
     "text": [
      "Compute precision, recall, F-measure and support for each class\n",
      "\n",
      "    The precision is the ratio ``tp / (tp + fp)`` where ``tp`` is the number of\n",
      "    true positives and ``fp`` the number of false positives. The precision is\n",
      "    intuitively the ability of the classifier not to label as positive a sample\n",
      "    that is negative.\n",
      "\n",
      "    The recall is the ratio ``tp / (tp + fn)`` where ``tp`` is the number of\n",
      "    true positives and ``fn`` the number of false negatives. The recall is\n",
      "    intuitively the ability of the classifier to find all the positive samples.\n",
      "\n",
      "    The F-beta score can be interpreted as a weighted harmonic mean of\n",
      "    the precision and recall, where an F-beta score reaches its best\n",
      "    value at 1 and worst score at 0.\n",
      "\n",
      "    The F-beta score weights recall more than precision by a factor of\n",
      "    ``beta``. ``beta == 1.0`` means recall and precision are equally important.\n",
      "\n",
      "    The support is the number of occurrences of each class in ``y_true``.\n",
      "\n",
      "    If ``pos_label is None`` and in binary classification, this function\n",
      "    returns the average precision, recall and F-measure if ``average``\n",
      "    is one of ``'micro'``, ``'macro'``, ``'weighted'`` or ``'samples'``.\n",
      "\n",
      "    Read more in the :ref:`User Guide <precision_recall_f_measure_metrics>`.\n",
      "\n",
      "    Parameters\n",
      "    ----------\n",
      "    y_true : 1d array-like, or label indicator array / sparse matrix\n",
      "        Ground truth (correct) target values.\n",
      "\n",
      "    y_pred : 1d array-like, or label indicator array / sparse matrix\n",
      "        Estimated targets as returned by a classifier.\n",
      "\n",
      "    beta : float, 1.0 by default\n",
      "        The strength of recall versus precision in the F-score.\n",
      "\n",
      "    labels : list, optional\n",
      "        The set of labels to include when ``average != 'binary'``, and their\n",
      "        order if ``average is None``. Labels present in the data can be\n",
      "        excluded, for example to calculate a multiclass average ignoring a\n",
      "        majority negative class, while labels not present in the data will\n",
      "        result in 0 components in a macro average. For multilabel targets,\n",
      "        labels are column indices. By default, all labels in ``y_true`` and\n",
      "        ``y_pred`` are used in sorted order.\n",
      "\n",
      "    pos_label : str or int, 1 by default\n",
      "        The class to report if ``average='binary'`` and the data is binary.\n",
      "        If the data are multiclass or multilabel, this will be ignored;\n",
      "        setting ``labels=[pos_label]`` and ``average != 'binary'`` will report\n",
      "        scores for that label only.\n",
      "\n",
      "    average : string, [None (default), 'binary', 'micro', 'macro', 'samples',                        'weighted']\n",
      "        If ``None``, the scores for each class are returned. Otherwise, this\n",
      "        determines the type of averaging performed on the data:\n",
      "\n",
      "        ``'binary'``:\n",
      "            Only report results for the class specified by ``pos_label``.\n",
      "            This is applicable only if targets (``y_{true,pred}``) are binary.\n",
      "        ``'micro'``:\n",
      "            Calculate metrics globally by counting the total true positives,\n",
      "            false negatives and false positives.\n",
      "        ``'macro'``:\n",
      "            Calculate metrics for each label, and find their unweighted\n",
      "            mean.  This does not take label imbalance into account.\n",
      "        ``'weighted'``:\n",
      "            Calculate metrics for each label, and find their average weighted\n",
      "            by support (the number of true instances for each label). This\n",
      "            alters 'macro' to account for label imbalance; it can result in an\n",
      "            F-score that is not between precision and recall.\n",
      "        ``'samples'``:\n",
      "            Calculate metrics for each instance, and find their average (only\n",
      "            meaningful for multilabel classification where this differs from\n",
      "            :func:`accuracy_score`).\n",
      "\n",
      "    warn_for : tuple or set, for internal use\n",
      "        This determines which warnings will be made in the case that this\n",
      "        function is being used to return only one of its metrics.\n",
      "\n",
      "    sample_weight : array-like of shape (n_samples,), default=None\n",
      "        Sample weights.\n",
      "\n",
      "    zero_division : \"warn\", 0 or 1, default=\"warn\"\n",
      "        Sets the value to return when there is a zero division:\n",
      "           - recall: when there are no positive labels\n",
      "           - precision: when there are no positive predictions\n",
      "           - f-score: both\n",
      "\n",
      "        If set to \"warn\", this acts as 0, but warnings are also raised.\n",
      "\n",
      "    Returns\n",
      "    -------\n",
      "    precision : float (if average is not None) or array of float, shape =        [n_unique_labels]\n",
      "\n",
      "    recall : float (if average is not None) or array of float, , shape =        [n_unique_labels]\n",
      "\n",
      "    fbeta_score : float (if average is not None) or array of float, shape =        [n_unique_labels]\n",
      "\n",
      "    support : None (if average is not None) or array of int, shape =        [n_unique_labels]\n",
      "        The number of occurrences of each label in ``y_true``.\n",
      "\n",
      "    References\n",
      "    ----------\n",
      "    .. [1] `Wikipedia entry for the Precision and recall\n",
      "           <https://en.wikipedia.org/wiki/Precision_and_recall>`_\n",
      "\n",
      "    .. [2] `Wikipedia entry for the F1-score\n",
      "           <https://en.wikipedia.org/wiki/F1_score>`_\n",
      "\n",
      "    .. [3] `Discriminative Methods for Multi-labeled Classification Advances\n",
      "           in Knowledge Discovery and Data Mining (2004), pp. 22-30 by Shantanu\n",
      "           Godbole, Sunita Sarawagi\n",
      "           <http://www.godbole.net/shantanu/pubs/multilabelsvm-pakdd04.pdf>`_\n",
      "\n",
      "    Examples\n",
      "    --------\n",
      "    >>> import numpy as np\n",
      "    >>> from sklearn.metrics import precision_recall_fscore_support\n",
      "    >>> y_true = np.array(['cat', 'dog', 'pig', 'cat', 'dog', 'pig'])\n",
      "    >>> y_pred = np.array(['cat', 'pig', 'dog', 'cat', 'cat', 'dog'])\n",
      "    >>> precision_recall_fscore_support(y_true, y_pred, average='macro')\n",
      "    (0.22..., 0.33..., 0.26..., None)\n",
      "    >>> precision_recall_fscore_support(y_true, y_pred, average='micro')\n",
      "    (0.33..., 0.33..., 0.33..., None)\n",
      "    >>> precision_recall_fscore_support(y_true, y_pred, average='weighted')\n",
      "    (0.22..., 0.33..., 0.26..., None)\n",
      "\n",
      "    It is possible to compute per-label precisions, recalls, F1-scores and\n",
      "    supports instead of averaging:\n",
      "\n",
      "    >>> precision_recall_fscore_support(y_true, y_pred, average=None,\n",
      "    ... labels=['pig', 'dog', 'cat'])\n",
      "    (array([0.        , 0.        , 0.66...]),\n",
      "     array([0., 0., 1.]), array([0. , 0. , 0.8]),\n",
      "     array([2, 2, 2]))\n",
      "\n",
      "    Notes\n",
      "    -----\n",
      "    When ``true positive + false positive == 0``, precision is undefined;\n",
      "    When ``true positive + false negative == 0``, recall is undefined.\n",
      "    In such cases, by default the metric will be set to 0, as will f-score,\n",
      "    and ``UndefinedMetricWarning`` will be raised. This behavior can be\n",
      "    modified with ``zero_division``.\n",
      "    \n"
     ]
    },
    {
     "data": {
      "text/plain": [
       "(array([0.94444444, 0.88274389]),\n",
       " array([0.8753155 , 0.94799898]),\n",
       " array([0.90856694, 0.91420846]),\n",
       " array([3962, 3923], dtype=int64))"
      ]
     },
     "execution_count": 64,
     "metadata": {},
     "output_type": "execute_result"
    }
   ],
   "source": [
    "#There is not class inbalance in this dataset\n",
    "from sklearn.metrics import precision_recall_fscore_support\n",
    "print (precision_recall_fscore_support.__doc__)\n",
    "precision_recall_fscore_support(test_y, y_pred, average=None)\n",
    "#print()"
   ]
  },
  {
   "cell_type": "code",
   "execution_count": 15,
   "metadata": {},
   "outputs": [
    {
     "name": "stdout",
     "output_type": "stream",
     "text": [
      "[3962]\n",
      "[3923]\n"
     ]
    }
   ],
   "source": [
    "print (sum (test_y == 0))\n",
    "print (sum (test_y == 1))"
   ]
  },
  {
   "cell_type": "code",
   "execution_count": 16,
   "metadata": {},
   "outputs": [
    {
     "name": "stdout",
     "output_type": "stream",
     "text": [
      "[23775]\n",
      "[23560]\n"
     ]
    }
   ],
   "source": [
    "print (sum (y == 0))\n",
    "print (sum (y == 1))"
   ]
  },
  {
   "cell_type": "code",
   "execution_count": null,
   "metadata": {},
   "outputs": [],
   "source": []
  }
 ],
 "metadata": {
  "colab": {
   "name": "Research_Engineer_Warszawa_i_Kraków",
   "provenance": []
  },
  "kernelspec": {
   "display_name": "Python 3",
   "language": "python",
   "name": "python3"
  },
  "language_info": {
   "codemirror_mode": {
    "name": "ipython",
    "version": 3
   },
   "file_extension": ".py",
   "mimetype": "text/x-python",
   "name": "python",
   "nbconvert_exporter": "python",
   "pygments_lexer": "ipython3",
   "version": "3.8.5"
  }
 },
 "nbformat": 4,
 "nbformat_minor": 1
}
